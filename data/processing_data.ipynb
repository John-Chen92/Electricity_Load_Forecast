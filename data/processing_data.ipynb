{
 "cells": [
  {
   "cell_type": "code",
   "execution_count": 3,
   "metadata": {},
   "outputs": [
    {
     "name": "stdout",
     "output_type": "stream",
     "text": [
      "Looking in indexes: https://mirrors.cernet.edu.cn/pypi/web/simple\n",
      "Collecting openpyxl\n",
      "  Downloading https://mirrors.jlu.edu.cn/pypi/web/packages/6a/94/a59521de836ef0da54aaf50da6c4da8fb4072fb3053fa71f052fd9399e7a/openpyxl-3.1.2-py2.py3-none-any.whl (249 kB)\n",
      "     ---------------------------------------- 0.0/250.0 kB ? eta -:--:--\n",
      "     ------------------------------------- 250.0/250.0 kB 16.0 MB/s eta 0:00:00\n",
      "Collecting et-xmlfile (from openpyxl)\n",
      "  Downloading https://mirrors.jlu.edu.cn/pypi/web/packages/96/c2/3dd434b0108730014f1b96fd286040dc3bcb70066346f7e01ec2ac95865f/et_xmlfile-1.1.0-py3-none-any.whl (4.7 kB)\n",
      "Installing collected packages: et-xmlfile, openpyxl\n",
      "Successfully installed et-xmlfile-1.1.0 openpyxl-3.1.2\n",
      "Note: you may need to restart the kernel to use updated packages.\n"
     ]
    }
   ],
   "source": [
    "%pip install openpyxl"
   ]
  },
  {
   "cell_type": "code",
   "execution_count": 14,
   "metadata": {},
   "outputs": [],
   "source": [
    "# 附件1-数据存在4张表，分别为Area1_Load,Area1_Weather,Area2_Load,Area2_Weather\n",
    "# 将这4张表数据分别转换为4个csv文件，文件名分别为Area1_Load.csv,Area1_Weather.csv,Area2_Load.csv,Area2_Weather.csv\n",
    "import pandas as pd\n",
    "\n",
    "data = pd.read_excel('附件1-数据.xlsx', sheet_name = None) # sheet_name = None means read all sheets\n",
    "data.get('Area1_Load') # get a specific sheet to DataFrame\n",
    "\n",
    "# 保存为csv文件\n",
    "data.get('Area1_Load').to_csv('Area1_Load.csv', index = False)\n",
    "data.get('Area1_Weather').to_csv('Area1_Weather.csv', index = False)\n",
    "data.get('Area2_Load').to_csv('Area2_Load.csv', index = False)\n",
    "data.get('Area2_Weather').to_csv('Area2_Weather.csv', index = False)\n"
   ]
  },
  {
   "cell_type": "code",
   "execution_count": null,
   "metadata": {},
   "outputs": [],
   "source": [
    "# Area1_Weather.csv第一列为日期，但名称为Unnamed: 0，将其改为YMD\n",
    "data = pd.read_csv('Area1_Weather.csv')\n",
    "data.rename(columns = {'Unnamed: 0':'YMD'}, inplace = True)\n",
    "data.to_csv('Area1_Weather.csv', index = False)\n",
    "# Area2_Weather.csv同理\n",
    "data = pd.read_csv('Area2_Weather.csv')\n",
    "data.rename(columns = {'Unnamed: 0':'YMD'}, inplace = True)\n",
    "data.to_csv('Area2_Weather.csv', index = False)"
   ]
  }
 ],
 "metadata": {
  "kernelspec": {
   "display_name": "Python (ai)",
   "language": "python",
   "name": "ai"
  },
  "language_info": {
   "codemirror_mode": {
    "name": "ipython",
    "version": 3
   },
   "file_extension": ".py",
   "mimetype": "text/x-python",
   "name": "python",
   "nbconvert_exporter": "python",
   "pygments_lexer": "ipython3",
   "version": "3.11.5"
  }
 },
 "nbformat": 4,
 "nbformat_minor": 2
}
