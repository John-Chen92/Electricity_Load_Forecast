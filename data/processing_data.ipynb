{
 "cells": [
  {
   "cell_type": "code",
   "execution_count": 1,
   "metadata": {},
   "outputs": [
    {
     "name": "stdout",
     "output_type": "stream",
     "text": [
      "Collecting openpyxl\n",
      "  Downloading openpyxl-3.1.2-py2.py3-none-any.whl.metadata (2.5 kB)\n",
      "Collecting et-xmlfile (from openpyxl)\n",
      "  Downloading et_xmlfile-1.1.0-py3-none-any.whl.metadata (1.8 kB)\n",
      "Downloading openpyxl-3.1.2-py2.py3-none-any.whl (249 kB)\n",
      "   ---------------------------------------- 0.0/250.0 kB ? eta -:--:--\n",
      "   - -------------------------------------- 10.2/250.0 kB ? eta -:--:--\n",
      "   ---- ---------------------------------- 30.7/250.0 kB 330.3 kB/s eta 0:00:01\n",
      "   ------ -------------------------------- 41.0/250.0 kB 217.9 kB/s eta 0:00:01\n",
      "   --------- ----------------------------- 61.4/250.0 kB 363.1 kB/s eta 0:00:01\n",
      "   ------------------------ ------------- 163.8/250.0 kB 701.4 kB/s eta 0:00:01\n",
      "   ------------------------ ------------- 163.8/250.0 kB 701.4 kB/s eta 0:00:01\n",
      "   -------------------------------------  245.8/250.0 kB 793.0 kB/s eta 0:00:01\n",
      "   -------------------------------------- 250.0/250.0 kB 730.9 kB/s eta 0:00:00\n",
      "Downloading et_xmlfile-1.1.0-py3-none-any.whl (4.7 kB)\n",
      "Installing collected packages: et-xmlfile, openpyxl\n",
      "Successfully installed et-xmlfile-1.1.0 openpyxl-3.1.2\n",
      "Note: you may need to restart the kernel to use updated packages.\n"
     ]
    }
   ],
   "source": [
    "%pip install openpyxl"
   ]
  },
  {
   "cell_type": "code",
   "execution_count": 14,
   "metadata": {},
   "outputs": [],
   "source": [
    "# 附件1-数据存在4张表，分别为Area1_Load,Area1_Weather,Area2_Load,Area2_Weather\n",
    "# 将这4张表数据分别转换为4个csv文件，文件名分别为Area1_Load.csv,Area1_Weather.csv,Area2_Load.csv,Area2_Weather.csv\n",
    "import pandas as pd\n",
    "\n",
    "data = pd.read_excel('附件1-数据.xlsx', sheet_name = None) # sheet_name = None means read all sheets\n",
    "data.get('Area1_Load') # get a specific sheet to DataFrame\n",
    "\n",
    "# 保存为csv文件\n",
    "data.get('Area1_Load').to_csv('Area1_Load.csv', index = False)\n",
    "data.get('Area1_Weather').to_csv('Area1_Weather.csv', index = False)\n",
    "data.get('Area2_Load').to_csv('Area2_Load.csv', index = False)\n",
    "data.get('Area2_Weather').to_csv('Area2_Weather.csv', index = False)\n"
   ]
  },
  {
   "cell_type": "code",
   "execution_count": 16,
   "metadata": {},
   "outputs": [],
   "source": [
    "# Area1_Weather.csv第一列为日期，但名称为Unnamed: 0，将其改为YMD\n",
    "data = pd.read_csv('Area1_Weather.csv')\n",
    "data.rename(columns = {'Unnamed: 0':'YMD'}, inplace = True)\n",
    "# 将YMD列转换为日期格式\n",
    "data['YMD'] = pd.to_datetime(data['YMD'], format='%Y%m%d')\n",
    "data.to_csv('Area1_Weather.csv', index = False)\n",
    "# Area2_Weather.csv同理\n",
    "data = pd.read_csv('Area2_Weather.csv')\n",
    "data.rename(columns = {'Unnamed: 0':'YMD'}, inplace = True)\n",
    "# 将YMD列转换为日期格式\n",
    "data['YMD'] = pd.to_datetime(data['YMD'], format='%Y%m%d')\n",
    "data.to_csv('Area2_Weather.csv', index = False)"
   ]
  },
  {
   "cell_type": "code",
   "execution_count": 17,
   "metadata": {},
   "outputs": [],
   "source": [
    "# 对于Area1_Load.csv进行日期格式转换\n",
    "data = pd.read_csv('Area1_Load.csv')\n",
    "data['YMD'] = pd.to_datetime(data['YMD'], format='%Y%m%d')\n",
    "data.to_csv('Area1_Load.csv', index = False)\n",
    "# Area2_Load.csv同理\n",
    "data = pd.read_csv('Area2_Load.csv')\n",
    "data['YMD'] = pd.to_datetime(data['YMD'], format='%Y%m%d')\n",
    "data.to_csv('Area2_Load.csv', index = False)"
   ]
  },
  {
   "cell_type": "code",
   "execution_count": 2,
   "metadata": {},
   "outputs": [],
   "source": [
    "import pandas as pd\n",
    "# Area1_Weather.csv的列名读取错误\n",
    "# YMD,最高温度℃,最低温度℃平均温度℃相对湿度(平均),Unnamed: 3,Unnamed: 4,降雨量（mm）\n",
    "data = pd.read_csv('Area1_Weather.csv')\n",
    "data.columns = ['YMD', 'Max_Temperature', 'Min_Temperature', 'Avg_Temperature', 'Avg_Humidity', 'Rainfall']\n",
    "data.to_csv('Area1_Weather.csv', index = False)\n",
    "# Area2_Weather.csv同理\n",
    "data = pd.read_csv('Area2_Weather.csv')\n",
    "data.columns = ['YMD', 'Max_Temperature', 'Min_Temperature', 'Avg_Temperature', 'Avg_Humidity', 'Rainfall']\n",
    "data.to_csv('Area2_Weather.csv', index = False)"
   ]
  }
 ],
 "metadata": {
  "kernelspec": {
   "display_name": "myenv",
   "language": "python",
   "name": "python3"
  },
  "language_info": {
   "codemirror_mode": {
    "name": "ipython",
    "version": 3
   },
   "file_extension": ".py",
   "mimetype": "text/x-python",
   "name": "python",
   "nbconvert_exporter": "python",
   "pygments_lexer": "ipython3",
   "version": "3.8.18"
  }
 },
 "nbformat": 4,
 "nbformat_minor": 2
}
